{
 "cells": [
  {
   "cell_type": "markdown",
   "metadata": {},
   "source": [
    "# FRETBursts - nsALEX/PIE example\n",
    "## How to use data from nsALEX/PIE to correct single-molecule FRET data and to present information regarding dynamics using MFD & BVA plots \n",
    "\n",
    "*This notebook is part of a [tutorial series](https://github.com/OpenSMFS/FRETBursts_notebooks) for the [FRETBursts](http://opensmfs.github.io/FRETBursts/) burst analysis software.*"
   ]
  },
  {
   "cell_type": "markdown",
   "metadata": {},
   "source": [
    "> For a step-by-step introduction to FRETBursts usage please refer to \n",
    "> [us-ALEX smFRET burst analysis](FRETBursts - us-ALEX smFRET burst analysis.ipynb).\n",
    ">\n",
    "> In this notebook we present a typical [FRETBursts](http://opensmfs.github.io/FRETBursts/)\n",
    "> workflow for **nsALEX/PIE smFRET burst analysis**. \n",
    "\n",
    "*While FRETBursts does not specifically includes functions for fitting \n",
    "TCSPC fluorescence decays, a fitting with exponential decays and \n",
    "IRF deconvolution can be easily performed using standard python libraries. \n",
    "For an example and a brief discussion see the notebook \n",
    "[Lifetime decay fit](http://nbviewer.ipython.org/github/tritemio/notebooks/blob/master/Lifetime_decay_fit.ipynb).*"
   ]
  },
  {
   "cell_type": "markdown",
   "metadata": {},
   "source": [
    "## Loading FRETBursts"
   ]
  },
  {
   "cell_type": "code",
   "execution_count": null,
   "metadata": {},
   "outputs": [],
   "source": [
    "from fretbursts import *"
   ]
  },
  {
   "cell_type": "code",
   "execution_count": null,
   "metadata": {},
   "outputs": [],
   "source": [
    "sns = init_notebook()"
   ]
  },
  {
   "cell_type": "markdown",
   "metadata": {},
   "source": [
    "Download sample data from https://zenodo.org/record/3569761/files/Sample%20Data.hdf5?download=1"
   ]
  },
  {
   "cell_type": "code",
   "execution_count": null,
   "metadata": {},
   "outputs": [],
   "source": [
    "filename = 'Sample Data.hdf5'\n",
    "filename"
   ]
  },
  {
   "cell_type": "markdown",
   "metadata": {},
   "source": [
    "## Selecting a data file\n",
    "\n",
    "Alternatively you can use an open-file dialog in order to select a data file:"
   ]
  },
  {
   "cell_type": "code",
   "execution_count": null,
   "metadata": {},
   "outputs": [],
   "source": [
    "import os\n",
    "if os.path.isfile(filename):\n",
    "    print(\"Perfect, I found the file!\")\n",
    "else:\n",
    "    print(\"Sorry, I can't find the file:\\n%s\" % filename)"
   ]
  },
  {
   "cell_type": "markdown",
   "metadata": {},
   "source": [
    "## Load the selected file\n",
    "\n",
    "Here we load the file and we set the alternation parameters:"
   ]
  },
  {
   "cell_type": "code",
   "execution_count": null,
   "metadata": {},
   "outputs": [],
   "source": [
    "d = loader.photon_hdf5(filename)\n",
    "#d = loader.nsalex(fname)"
   ]
  },
  {
   "cell_type": "code",
   "execution_count": null,
   "metadata": {},
   "outputs": [],
   "source": [
    "d.time_max"
   ]
  },
  {
   "cell_type": "code",
   "execution_count": null,
   "metadata": {},
   "outputs": [],
   "source": [
    "d.det_t"
   ]
  },
  {
   "cell_type": "code",
   "execution_count": null,
   "metadata": {},
   "outputs": [],
   "source": [
    "print(\"Detector    Counts\")\n",
    "print(\"--------   --------\")\n",
    "for det, count in zip(*np.unique(d.det_t, return_counts=True)):\n",
    "    print(\"%8d   %8d\" % (det, count))"
   ]
  },
  {
   "cell_type": "markdown",
   "metadata": {},
   "source": [
    "#### The PIE alternation period"
   ]
  },
  {
   "cell_type": "code",
   "execution_count": null,
   "metadata": {},
   "outputs": [],
   "source": [
    "bpl.plot_alternation_hist(d)"
   ]
  },
  {
   "cell_type": "markdown",
   "metadata": {},
   "source": [
    "Execute the previous 2 cells until you get a satisfying \n",
    "selection for the excitation periods. Then run the following \n",
    "to apply the parameters:"
   ]
  },
  {
   "cell_type": "code",
   "execution_count": null,
   "metadata": {},
   "outputs": [],
   "source": [
    "loader.alex_apply_period(d)"
   ]
  },
  {
   "cell_type": "markdown",
   "metadata": {},
   "source": [
    "## Burst search and selection\n",
    "### Calculte the background rate for all photon streams, for each 30s chunk of the measurement"
   ]
  },
  {
   "cell_type": "code",
   "execution_count": null,
   "metadata": {},
   "outputs": [],
   "source": [
    "d.calc_bg(fun=bg.exp_fit, time_s=30, tail_min_us='auto', F_bg=1.7)"
   ]
  },
  {
   "cell_type": "markdown",
   "metadata": {},
   "source": [
    "#### Plot of the mean BG rate for all photon streams ovr the whole acquisition time"
   ]
  },
  {
   "cell_type": "code",
   "execution_count": null,
   "metadata": {},
   "outputs": [],
   "source": [
    "dplot(d, hist_bg, show_fit=True);"
   ]
  },
  {
   "cell_type": "markdown",
   "metadata": {},
   "source": [
    "### Plot of how the BG rates of all photon streams change with acquistion time (30s bin)"
   ]
  },
  {
   "cell_type": "code",
   "execution_count": null,
   "metadata": {},
   "outputs": [],
   "source": [
    "dplot(d, timetrace_bg)"
   ]
  },
  {
   "cell_type": "markdown",
   "metadata": {},
   "source": [
    "#### A plot of a sample 1s binned data"
   ]
  },
  {
   "cell_type": "code",
   "execution_count": null,
   "metadata": {},
   "outputs": [],
   "source": [
    "dplot(d, timetrace)\n",
    "xlim(10, 11)\n",
    "ylim(-50, 50)"
   ]
  },
  {
   "cell_type": "markdown",
   "metadata": {},
   "source": [
    "### We start off by using All Channel Burst Search (ACBS), with no corrections"
   ]
  },
  {
   "cell_type": "code",
   "execution_count": null,
   "metadata": {
    "scrolled": true
   },
   "outputs": [],
   "source": [
    "d.burst_search(m=10, F=6)\n",
    "d.fuse_bursts(ms=0)"
   ]
  },
  {
   "cell_type": "code",
   "execution_count": null,
   "metadata": {},
   "outputs": [],
   "source": [
    "d.leakage = 0\n",
    "d.dir_ex = 0\n",
    "d.gamma = 1\n",
    "d.beta = 1\n",
    "ds_all = d.select_bursts(select_bursts.size, add_naa=True, th1=30)"
   ]
  },
  {
   "cell_type": "code",
   "execution_count": null,
   "metadata": {
    "scrolled": false
   },
   "outputs": [],
   "source": [
    "alex_jointplot(ds_all)\n",
    "#plt.savefig('aSyn39C-ATTO488-39C-ATTO647N_1h_2D_ALEX_all.png', dpi=1200, bbox_inches='tight')"
   ]
  },
  {
   "cell_type": "code",
   "execution_count": null,
   "metadata": {},
   "outputs": [],
   "source": [
    "dplot(ds_all, hist2d_alex);"
   ]
  },
  {
   "cell_type": "markdown",
   "metadata": {},
   "source": [
    "### Then, we select only the donor-only (DO) & acceptor-only (AO) populations"
   ]
  },
  {
   "cell_type": "code",
   "execution_count": null,
   "metadata": {},
   "outputs": [],
   "source": [
    "ds_DO = ds_all.select_bursts(select_bursts.S, S1=0.8)\n",
    "ds_AO = ds_all.select_bursts(select_bursts.S, S2=0.2)"
   ]
  },
  {
   "cell_type": "code",
   "execution_count": null,
   "metadata": {},
   "outputs": [],
   "source": [
    "dplot(ds_DO, hist2d_alex);"
   ]
  },
  {
   "cell_type": "markdown",
   "metadata": {},
   "source": [
    "#### The mean of the DO FRET histogram should be 0. A value >0 is an indication of leakage\n",
    "We use this value to calculate the Leakage factor - donor fluorescence leakage to the acceptor detection channel"
   ]
  },
  {
   "cell_type": "code",
   "execution_count": null,
   "metadata": {},
   "outputs": [],
   "source": [
    "dplot(ds_DO, hist_fret, pdf=False)\n",
    "plt.axvline(np.mean(ds_DO.E))"
   ]
  },
  {
   "cell_type": "code",
   "execution_count": null,
   "metadata": {},
   "outputs": [],
   "source": [
    "Lk = np.mean(ds_DO.E) / (1 - np.mean(ds_DO.E));\n",
    "Lk"
   ]
  },
  {
   "cell_type": "markdown",
   "metadata": {},
   "source": [
    "#### The mean of the AO Stoichiometry histogram should be 0. A value >0 is an indication of leakage\n",
    "We use this value to calculate the Direct acceptor excitation factor - acceptor fluorescence caused by excitation by the laser intended for donor excitation"
   ]
  },
  {
   "cell_type": "code",
   "execution_count": null,
   "metadata": {},
   "outputs": [],
   "source": [
    "dplot(ds_AO, hist2d_alex);"
   ]
  },
  {
   "cell_type": "code",
   "execution_count": null,
   "metadata": {},
   "outputs": [],
   "source": [
    "dplot(ds_AO, hist_S, pdf=False)\n",
    "plt.axvline(np.mean(ds_AO.S))\n",
    "np.mean(ds_AO.S)"
   ]
  },
  {
   "cell_type": "code",
   "execution_count": null,
   "metadata": {},
   "outputs": [],
   "source": [
    "Dir = np.mean(ds_AO.S) / (1 - np.mean(ds_AO.S));\n",
    "Dir"
   ]
  },
  {
   "cell_type": "markdown",
   "metadata": {},
   "source": [
    "### After employing Lk & Dir corrections"
   ]
  },
  {
   "cell_type": "code",
   "execution_count": null,
   "metadata": {},
   "outputs": [],
   "source": [
    "d.leakage = Lk\n",
    "d.dir_ex = Dir\n",
    "d.gamma = 1\n",
    "d.beta = 1\n",
    "ds_all = d.select_bursts(select_bursts.size, add_naa=True, th1=30)"
   ]
  },
  {
   "cell_type": "code",
   "execution_count": null,
   "metadata": {
    "scrolled": false
   },
   "outputs": [],
   "source": [
    "alex_jointplot(ds_all)\n"
   ]
  },
  {
   "cell_type": "code",
   "execution_count": null,
   "metadata": {},
   "outputs": [],
   "source": [
    "dplot(ds_all, hist2d_alex);"
   ]
  },
  {
   "cell_type": "markdown",
   "metadata": {},
   "source": [
    "#### Then we check that applying Lk & Dir corrections yielded DO & AO populations with mean E/S value of 0"
   ]
  },
  {
   "cell_type": "code",
   "execution_count": null,
   "metadata": {},
   "outputs": [],
   "source": [
    "ds_DO = ds_all.select_bursts(select_bursts.S, S1=0.8)\n",
    "ds_AO = ds_all.select_bursts(select_bursts.S, S2=0.2)"
   ]
  },
  {
   "cell_type": "code",
   "execution_count": null,
   "metadata": {},
   "outputs": [],
   "source": [
    "dplot(ds_DO, hist2d_alex);"
   ]
  },
  {
   "cell_type": "code",
   "execution_count": null,
   "metadata": {},
   "outputs": [],
   "source": [
    "dplot(ds_DO, hist_fret, pdf=False)\n",
    "plt.axvline(np.mean(ds_DO.E))"
   ]
  },
  {
   "cell_type": "code",
   "execution_count": null,
   "metadata": {},
   "outputs": [],
   "source": [
    "np.mean(ds_DO.E)"
   ]
  },
  {
   "cell_type": "code",
   "execution_count": null,
   "metadata": {},
   "outputs": [],
   "source": [
    "dplot(ds_AO, hist2d_alex);"
   ]
  },
  {
   "cell_type": "code",
   "execution_count": null,
   "metadata": {},
   "outputs": [],
   "source": [
    "dplot(ds_AO, hist_S, pdf=False)\n",
    "plt.axvline(np.mean(ds_AO.S))"
   ]
  },
  {
   "cell_type": "code",
   "execution_count": null,
   "metadata": {},
   "outputs": [],
   "source": [
    "np.mean(ds_AO.S)"
   ]
  },
  {
   "cell_type": "markdown",
   "metadata": {},
   "source": [
    "### We move on to calculate the Gamma factor using the donor lifetime information\n",
    "#### for that we get the FRET population using Dual channel burst search (DCBS)"
   ]
  },
  {
   "cell_type": "code",
   "execution_count": null,
   "metadata": {},
   "outputs": [],
   "source": [
    "# DCBS\n",
    "d_dcbs = bext.burst_search_and_gate(d, F = 6, m = 10)\n",
    "# Fusion of consecutive bursts with less than m photons separating them\n",
    "d_dcbs.fuse_bursts(ms=0)\n",
    "# applying the correction factors acquired so far\n",
    "d_dcbs.leakage = d.leakage\n",
    "d_dcbs.dir_ex = d.dir_ex\n",
    "d_dcbs.gamma = d.gamma\n",
    "d_dcbs.beta = d.beta"
   ]
  },
  {
   "cell_type": "code",
   "execution_count": null,
   "metadata": {},
   "outputs": [],
   "source": [
    "# Burst selection\n",
    "\n",
    "gen_th = 50\n",
    "# We first select bursts according to a burst size thresholds for ALL photon streams (DD, DA, AA)\n",
    "# This step helps in haping the S population\n",
    "ds_FRET = d_dcbs.select_bursts(select_bursts.size, add_naa=True, th1=gen_th)\n",
    "# Then we select from them bursts according to a burst size threshold for burst streams after donor excitation (DD, DA)\n",
    "# This step helps in shaping the E population\n",
    "ds_FRET = ds_FRET.select_bursts(select_bursts.size, add_naa=False, th1=gen_th/2)\n",
    "# Then we select from them bursts according to a burst size threshold for burst streams after acceptor excitation (AA)\n",
    "# This step filters out the donor-only species and leaves us only with FRET species\n",
    "ds_FRET = ds_FRET.select_bursts(select_bursts.naa, th1=gen_th/2)"
   ]
  },
  {
   "cell_type": "code",
   "execution_count": null,
   "metadata": {
    "scrolled": false
   },
   "outputs": [],
   "source": [
    "alex_jointplot(ds_FRET)\n"
   ]
  },
  {
   "cell_type": "code",
   "execution_count": null,
   "metadata": {},
   "outputs": [],
   "source": [
    "dplot(ds_FRET, hist2d_alex);"
   ]
  },
  {
   "cell_type": "markdown",
   "metadata": {},
   "source": [
    "#### We keep the mean un-corrected FRET value for further use in the Gamma calculation"
   ]
  },
  {
   "cell_type": "code",
   "execution_count": null,
   "metadata": {},
   "outputs": [],
   "source": [
    "dplot(ds_FRET, hist_fret, pdf=False)\n",
    "plt.axvline(np.mean(ds_FRET.E))"
   ]
  },
  {
   "cell_type": "markdown",
   "metadata": {},
   "source": [
    "## Calculating the Gamma factor, per FRET population, using the donor fluorescence nanotimes"
   ]
  },
  {
   "cell_type": "code",
   "execution_count": null,
   "metadata": {},
   "outputs": [],
   "source": [
    "# The TCSPC parameters are passed to the burst handler in FRETbursts nalysis of PIE data\n",
    "d.nanotimes_params"
   ]
  },
  {
   "cell_type": "code",
   "execution_count": null,
   "metadata": {},
   "outputs": [],
   "source": [
    "def get_nanotimes(d, ph_sel):\n",
    "    mask = d.ph_in_bursts_mask_ich(ph_sel=ph_sel)\n",
    "    return d.nanotimes[0][mask]"
   ]
  },
  {
   "cell_type": "code",
   "execution_count": null,
   "metadata": {},
   "outputs": [],
   "source": [
    "# This sets the TCSPC parameters to be used in nanotime calculations\n",
    "tcspc_bin = d.nanotimes_params[0]['tcspc_unit']\n",
    "tcspc_range = d.nanotimes_params[0]['tcspc_range']\n",
    "tcspc_num_bins = d.nanotimes_params[0]['tcspc_num_bins']\n",
    "bins_raw = np.arange(0, tcspc_num_bins)\n",
    "\n",
    "# Photon selections according to photon streams\n",
    "ph_sel_d = Ph_sel(Dex='Dem')\n",
    "ph_sel_a = Ph_sel(Dex='Aem')\n",
    "ph_sel_aa = Ph_sel(Aex='Aem')"
   ]
  },
  {
   "cell_type": "code",
   "execution_count": null,
   "metadata": {},
   "outputs": [],
   "source": [
    "# Getting the nanotimes of different photon stream and different photon selections\n",
    "\n",
    "# This is for the selected bursts solely of the FRET population(s) - ds_FRET\n",
    "nanotimes_d_FRET = get_nanotimes(ds_FRET, ph_sel_d)\n",
    "nanotimes_a_FRET = get_nanotimes(ds_FRET, ph_sel_a)\n",
    "nanotimes_aa_FRET = get_nanotimes(ds_FRET, ph_sel_aa)\n",
    "\n",
    "# This is for the selected bursts solely of the DO population - ds_DO\n",
    "nanotimes_d_DO = get_nanotimes(ds_DO, ph_sel_d)\n",
    "nanotimes_a_DO = get_nanotimes(ds_DO, ph_sel_a)\n",
    "\n",
    "hist_params = dict(bins=bins_raw, density=False)\n",
    "nanot_hist_d_FRET, _ = np.histogram(nanotimes_d_FRET, **hist_params)\n",
    "nanot_hist_a_FRET, _ = np.histogram(nanotimes_a_FRET, **hist_params)\n",
    "nanot_hist_aa_FRET, _ = np.histogram(nanotimes_aa_FRET, **hist_params)\n",
    "nanot_hist_d_DO, _ = np.histogram(nanotimes_d_DO, **hist_params)\n",
    "nanot_hist_a_DO, _ = np.histogram(nanotimes_a_DO, **hist_params)"
   ]
  },
  {
   "cell_type": "code",
   "execution_count": null,
   "metadata": {},
   "outputs": [],
   "source": [
    "# Plotting the fluorescence decays of different photon selections & photon streams\n",
    "bins_raw = np.arange(0, tcspc_num_bins)\n",
    "time_axis_ns = (bins_raw[1:] * tcspc_bin) * 1e9\n",
    "plt.semilogy(time_axis_ns, nanot_hist_d_DO, 'k')\n",
    "plt.semilogy(time_axis_ns, nanot_hist_d_FRET, 'g')\n",
    "plt.semilogy(time_axis_ns, nanot_hist_a_FRET, 'r')\n",
    "plt.xlim(9,30)\n",
    "plt.xlabel('Time (ns)')\n",
    "plt.ylabel('Counts')"
   ]
  },
  {
   "cell_type": "code",
   "execution_count": null,
   "metadata": {},
   "outputs": [],
   "source": [
    "# Plotting the donor fluorescence decays of different photon selections\n",
    "# In this case I chose to overlay the DO & FRET related donor fluorescence decays\n",
    "plt.semilogy(time_axis_ns, nanot_hist_d_DO, 'k')\n",
    "plt.semilogy(time_axis_ns, nanot_hist_d_FRET, 'g')\n",
    "\n",
    "# For the purpose of calculting mean nanotimes, for a given excitation window (Dex. or Aex. in PIE)\n",
    "# it is important to choose nanotimes larger than a given lower boundary value. \n",
    "# The optimal lower boundary value should be one in which the TCSPC histogram is in its decay part, after the IRF convolution part\n",
    "# BUT, as low as possible to include as many photon nanotimes as possible in the mean nnotime calculation\n",
    "plt.axvline(10.8)\n",
    "plt.xlim(9,30)\n",
    "plt.xlabel('Time (ns)')\n",
    "plt.ylabel('Counts')"
   ]
  },
  {
   "cell_type": "code",
   "execution_count": null,
   "metadata": {},
   "outputs": [],
   "source": [
    "# Setting the value of the variable that will serve as the lower boundary for the nanotimes of photons belonging to Dex. photon streams\n",
    "nt_th_Dex = 10.8"
   ]
  },
  {
   "cell_type": "code",
   "execution_count": null,
   "metadata": {},
   "outputs": [],
   "source": [
    "# Plotting the aceptor fluorescence decays of different photon selections\n",
    "# In this case I chose to diplay the FRET-related acceptor fluorescence decay following acceptor excitation\n",
    "plt.semilogy(time_axis_ns, nanot_hist_aa_FRET, 'r')\n",
    "# For the purpose of calculting mean nanotimes, for a given excitation window (Dex. or Aex. in PIE)\n",
    "# it is important to choose nanotimes larger than a given lower boundary value. \n",
    "# The optimal lower boundary value should be one in which the TCSPC histogram is in its decay part, after the IRF convolution part\n",
    "# BUT, as low as possible to include as many photon nanotimes as possible in the mean nnotime calculation\n",
    "plt.axvline(30.8)\n",
    "plt.xlim(29,50)\n",
    "plt.xlabel('Time (ns)')\n",
    "plt.ylabel('Counts')"
   ]
  },
  {
   "cell_type": "code",
   "execution_count": null,
   "metadata": {},
   "outputs": [],
   "source": [
    "# Setting the value of the variable that will serve as the lower boundary for the nanotimes of photons belonging to Aex. photon streams\n",
    "nt_th_Aex = 30.8"
   ]
  },
  {
   "cell_type": "markdown",
   "metadata": {},
   "source": [
    "#### gathering all nanotimes for all photon streams - FRET population"
   ]
  },
  {
   "cell_type": "code",
   "execution_count": null,
   "metadata": {},
   "outputs": [],
   "source": [
    "# Choose a handler for the selected bursts you would like to focus on \n",
    "ds_tmp = ds_FRET\n",
    "\n",
    "bursts =ds_tmp.mburst[0]# This grants access to the bursts photons, including to their nanotimes\n",
    "# Define photon masks for the 3 main photon streams in PIE\n",
    "DexDem_mask = ds_tmp.get_ph_mask(ph_sel=Ph_sel(Dex='Dem'))   \n",
    "DexAem_mask = ds_tmp.get_ph_mask(ph_sel=Ph_sel(Dex='Aem'))   \n",
    "AexAem_mask = ds_tmp.get_ph_mask(ph_sel=Ph_sel(Aex='Aem'))   \n",
    "\n",
    "\n",
    "# Arrays that will hold the mean nanotime values\n",
    "nDexDm_corr=[]# for the stream of donor photons after donor excitation\n",
    "nDexAm_corr=[]# for the stream of acceptor photons after donor excitation\n",
    "nAexAm_corr=[]# for the stream of acceptor photons after acceptor excitation\n",
    "\n",
    "# Arrays that will hold the corresponding ratiometric values of E & S\n",
    "E_corr=[]\n",
    "S_corr=[]\n",
    "\n",
    "# Loop over all bursts\n",
    "for burst in bursts:\n",
    "    #Set temporary summing variables - used as numerator in the calculations of the burst algebraic average\n",
    "    tmpDA = 0;\n",
    "    tmpAA = 0;\n",
    "    tmpDD = 0;\n",
    "    \n",
    "    #Set temporary counter variables - used as denominator in the calculations of the burst algebraic average\n",
    "    cntDA = 0;\n",
    "    cntAA = 0;\n",
    "    cntDD = 0;\n",
    "    \n",
    "    # For each burst, loop over its photons\n",
    "    for i in range(burst.istart, burst.istop):\n",
    "        # the current photon's nanotime in TCSPC bins units\n",
    "        cur_nt = ds_tmp.nanotimes[0][i];\n",
    "        # the current photon's nanotime in nanoseconds\n",
    "        cur_nt = cur_nt * tcspc_bin * 1e9;\n",
    "        \n",
    "        # The case of a Dex.Dem. photon\n",
    "        if DexDem_mask[i] == 1 and DexAem_mask[i] == 0 and AexAem_mask[i] == 0 and cur_nt > nt_th_Dex:# only consider photon nanotimes larger than a given lower boundary, defining the beginning of the decay part of the TCSPC histogram\n",
    "            tmpDD += cur_nt;\n",
    "            cntDD += 1;\n",
    "        # The case of a Dex.Aem. photon\n",
    "        elif DexDem_mask[i] == 0 and DexAem_mask[i] == 1 and AexAem_mask[i] == 0 and cur_nt > nt_th_Dex:# only consider photon nanotimes larger than a given lower boundary, defining the beginning of the decay part of the TCSPC histogram\n",
    "            tmpDA += cur_nt;\n",
    "            cntDA += 1;\n",
    "        # The case of a Aex.Aem. photon\n",
    "        elif DexDem_mask[i] == 0 and DexAem_mask[i] == 0 and AexAem_mask[i] == 1 and cur_nt > nt_th_Aex:# only consider photon nanotimes larger than a given lower boundary, defining the beginning of the decay part of the TCSPC histogram\n",
    "            tmpAA += cur_nt;\n",
    "            cntAA += 1;\n",
    "        \n",
    "    # The calculation of the mean nanotime for each photon stream in PIE\n",
    "    # This conditional makes sure there were photons of the given photon stream in the burst. If there were no photons of that photon strem in the given burst, a value of -1 is stored instead.\n",
    "    # The -1 values should be ignored afterwards in further calculations\n",
    "    # Anyway, valid mean nanotimes are always larger or equl to 0\n",
    "    \n",
    "    # Dex.Dem. calculation\n",
    "    if cntDD > 0:\n",
    "        #The calcultion of the algebraic average nanotime \n",
    "        cur_mean_nt_DD = tmpDD/cntDD;\n",
    "        # The mean nanotime has a value relative to the beginning of the decay part of the TCSPC histogram. \n",
    "        # Subtraction of this value makes the value of the mean nanotime become relative to 0, as it hould be.\n",
    "        cur_mean_nt_DD = cur_mean_nt_DD - nt_th_Dex;\n",
    "    else:\n",
    "        cur_mean_nt_DD = -1;\n",
    "    \n",
    "    # Dex.Aem. calculation\n",
    "    if cntDA > 0:\n",
    "        cur_mean_nt_DA = tmpDA/cntDA;\n",
    "        cur_mean_nt_DA = cur_mean_nt_DA - nt_th_Dex;\n",
    "    else:\n",
    "        cur_mean_nt_DA = -1;\n",
    "    \n",
    "    # Aex.Aem. calculation\n",
    "    if cntAA > 0:\n",
    "        cur_mean_nt_AA = tmpAA/cntAA;\n",
    "        cur_mean_nt_AA = cur_mean_nt_AA - nt_th_Aex;\n",
    "    else:\n",
    "        cur_mean_nt_AA = -1;\n",
    "    \n",
    "    \n",
    "    # Storing the mean nanotime values of the 3 different photons streams in PIE, in their arrays, per each burst\n",
    "    nDexDm_corr.append(cur_mean_nt_DD)\n",
    "    nDexAm_corr.append(cur_mean_nt_DA)\n",
    "    nAexAm_corr.append(cur_mean_nt_AA)\n",
    "\n",
    "# Looping over all bursts to store the rtiometric E & S values\n",
    "for j in range(0, len(ds_tmp.E[0])):\n",
    "    E_corr.append(ds_tmp.E[0][j])\n",
    "    S_corr.append(ds_tmp.S[0][j])\n",
    "\n",
    "    "
   ]
  },
  {
   "cell_type": "code",
   "execution_count": null,
   "metadata": {},
   "outputs": [],
   "source": [
    "# Sanity check to test that the number of array elements for the mean nanotimes and E & S are identical\n",
    "assert(len(nDexDm_corr)==len(nDexAm_corr)==len(nAexAm_corr)==len(E_corr)==len(S_corr))"
   ]
  },
  {
   "cell_type": "code",
   "execution_count": null,
   "metadata": {},
   "outputs": [],
   "source": [
    "# Store the results of the mean nanotime calculations in local variables that relate to the given burst selection\n",
    "nDexDm_FRET = nDexDm_corr;\n",
    "nDexAm_FRET = nDexAm_corr;\n",
    "nAexAm_FRET = nAexAm_corr;\n",
    "E_FRET = E_corr;\n",
    "S_FRET = S_corr;"
   ]
  },
  {
   "cell_type": "markdown",
   "metadata": {},
   "source": [
    "#### gathering all nanotimes for all photon streams - DO population"
   ]
  },
  {
   "cell_type": "code",
   "execution_count": null,
   "metadata": {},
   "outputs": [],
   "source": [
    "ds_tmp = ds_DO\n",
    "\n",
    "bursts =ds_tmp.mburst[0]\n",
    "DexDem_mask = ds_tmp.get_ph_mask(ph_sel=Ph_sel(Dex='Dem'))   \n",
    "DexAem_mask = ds_tmp.get_ph_mask(ph_sel=Ph_sel(Dex='Aem'))   \n",
    "AexAem_mask = ds_tmp.get_ph_mask(ph_sel=Ph_sel(Aex='Aem'))   \n",
    "\n",
    "\n",
    "\n",
    "nDexDm_corr=[]\n",
    "nDexAm_corr=[]\n",
    "nAexAm_corr=[]\n",
    "E_corr=[]\n",
    "S_corr=[]\n",
    "\n",
    "\n",
    "for burst in bursts:\n",
    "    tmpDA = 0;\n",
    "    tmpAA = 0;\n",
    "    tmpDD = 0;\n",
    "    \n",
    "    cntDA = 0;\n",
    "    cntAA = 0;\n",
    "    cntDD = 0;\n",
    "    for i in range(burst.istart, burst.istop):\n",
    "        cur_nt = ds_tmp.nanotimes[0][i];\n",
    "        cur_nt = cur_nt * tcspc_bin * 1e9;\n",
    "        if DexDem_mask[i] == 1 and DexAem_mask[i] == 0 and AexAem_mask[i] == 0 and cur_nt > nt_th_Dex:\n",
    "            tmpDD += cur_nt;\n",
    "            cntDD += 1;\n",
    "        elif DexDem_mask[i] == 0 and DexAem_mask[i] == 1 and AexAem_mask[i] == 0 and cur_nt > nt_th_Dex:\n",
    "            tmpDA += cur_nt;\n",
    "            cntDA += 1;\n",
    "        elif DexDem_mask[i] == 0 and DexAem_mask[i] == 0 and AexAem_mask[i] == 1 and cur_nt > nt_th_Aex:\n",
    "            tmpAA += cur_nt;\n",
    "            cntAA += 1;\n",
    "        \n",
    "    if cntDD > 0:\n",
    "        cur_mean_nt_DD = tmpDD/cntDD;\n",
    "        cur_mean_nt_DD = cur_mean_nt_DD - nt_th_Dex;\n",
    "    else:\n",
    "        cur_mean_nt_DD = -1;\n",
    "    \n",
    "    if cntDA > 0:\n",
    "        cur_mean_nt_DA = tmpDA/cntDA;\n",
    "        cur_mean_nt_DA = cur_mean_nt_DA - nt_th_Dex;\n",
    "    else:\n",
    "        cur_mean_nt_DA = -1;\n",
    "    \n",
    "    if cntAA > 0:\n",
    "        cur_mean_nt_AA = tmpAA/cntAA;\n",
    "        cur_mean_nt_AA = cur_mean_nt_AA - nt_th_Aex;\n",
    "    else:\n",
    "        cur_mean_nt_AA = -1;\n",
    "    \n",
    "    \n",
    "    nDexDm_corr.append(cur_mean_nt_DD)\n",
    "    nDexAm_corr.append(cur_mean_nt_DA)\n",
    "    nAexAm_corr.append(cur_mean_nt_AA)\n",
    "    \n",
    "for j in range(0, len(ds_tmp.E[0])):\n",
    "    E_corr.append(ds_tmp.E[0][j])\n",
    "    S_corr.append(ds_tmp.S[0][j])\n",
    "\n",
    "    "
   ]
  },
  {
   "cell_type": "code",
   "execution_count": null,
   "metadata": {},
   "outputs": [],
   "source": [
    "# Sanity check to test that the number of array elements for the mean nanotimes and E & S are identical\n",
    "assert(len(nDexDm_corr)==len(nDexAm_corr)==len(nAexAm_corr)==len(E_corr)==len(S_corr))"
   ]
  },
  {
   "cell_type": "code",
   "execution_count": null,
   "metadata": {},
   "outputs": [],
   "source": [
    "nDexDm_DO = nDexDm_corr;\n",
    "nDexAm_DO = nDexAm_corr;\n",
    "nAexAm_DO = nAexAm_corr;\n",
    "E_DO = E_corr;\n",
    "S_DO = S_corr;"
   ]
  },
  {
   "cell_type": "markdown",
   "metadata": {},
   "source": [
    "##### Plots of the donor nanotime histograms - DO & FRET populations"
   ]
  },
  {
   "cell_type": "code",
   "execution_count": null,
   "metadata": {},
   "outputs": [],
   "source": [
    "plt.hist(nDexDm_DO, bins=55, range=[-0.2,5.2], alpha=0.5);\n",
    "plt.hist(nDexDm_FRET, bins=55, range=[-0.2,5.2], alpha=0.5);\n",
    "plt.xlabel('tauD (ns)')\n",
    "plt.ylabel('# Bursts')\n",
    "plt.title('Mean donor nanotimes - DO vs. FRET')"
   ]
  },
  {
   "cell_type": "markdown",
   "metadata": {},
   "source": [
    "#### calculating the mean donor fluorescence lifetimes and the corrected FRET efficiency\n",
    "the nanotimes of the photons belonging to the DO & FRET selected bursts are used for calculating the mean of all bursts' mean nanotimes. Then we used them to calculate an etimate for the accurate FRET efficiency."
   ]
  },
  {
   "cell_type": "code",
   "execution_count": null,
   "metadata": {},
   "outputs": [],
   "source": [
    "# The mean value of all mean nanotimes of all bursts of the DO population\n",
    "mean_DD_DO = np.mean(nDexDm_DO)\n",
    "# The mean value of all mean nanotimes of all bursts of the FRET population\n",
    "mean_DD_FRET = np.mean(nDexDm_FRET)\n",
    "# Using the mean donor lifetimes to estimate the corrected value of the FRET efficiency\n",
    "mean_FRET = 1 - mean_DD_FRET / mean_DD_DO\n",
    "# Plotting the values of the mean donor lifetimes of the DO & the FRET population, and the mean FRET fficiency\n",
    "mean_DD_DO, mean_DD_FRET, mean_FRET"
   ]
  },
  {
   "cell_type": "code",
   "execution_count": null,
   "metadata": {},
   "outputs": [],
   "source": [
    "# The un-corrected mean FRET fficiency from the FRET histogram\n",
    "Eapp = np.mean(ds_FRET.E)\n",
    "Eapp"
   ]
  },
  {
   "cell_type": "markdown",
   "metadata": {},
   "source": [
    "### The Gamma factor value is...\n",
    "#### This is the procedure of estimating the Gamma factor from the un-corrected FRET efficiency (from FRET histogram) and from the estimate of the accurate mean FRET efficiency, calculated from donor nanotime data"
   ]
  },
  {
   "cell_type": "code",
   "execution_count": null,
   "metadata": {},
   "outputs": [],
   "source": [
    "gm = ((1-mean_FRET)/mean_FRET)/((1-Eapp)/Eapp)\n",
    "gm"
   ]
  },
  {
   "cell_type": "markdown",
   "metadata": {},
   "source": [
    "### After employing Lk, Dir & Gamma corrections"
   ]
  },
  {
   "cell_type": "code",
   "execution_count": null,
   "metadata": {},
   "outputs": [],
   "source": [
    "d.leakage = Lk\n",
    "d.dir_ex = Dir\n",
    "d.gamma = gm\n",
    "# We employ all correction factors, except Beta. We want to check wheather Beta should be larger or smaller than 1\n",
    "d.beta = 1\n",
    "ds_all = d.select_bursts(select_bursts.size, add_naa=True, th1=30)"
   ]
  },
  {
   "cell_type": "code",
   "execution_count": null,
   "metadata": {},
   "outputs": [],
   "source": [
    "d_dcbs = bext.burst_search_and_gate(d, F = 6, m = 10)\n",
    "d_dcbs.fuse_bursts(ms=0)\n",
    "d_dcbs.leakage = d.leakage\n",
    "d_dcbs.dir_ex = d.dir_ex\n",
    "d_dcbs.gamma = d.gamma\n",
    "d_dcbs.beta = d.beta"
   ]
  },
  {
   "cell_type": "code",
   "execution_count": null,
   "metadata": {},
   "outputs": [],
   "source": [
    "# This time, burst selection has also to take into account burst sizes corrected by the Gamma factor\n",
    "gen_th = 50\n",
    "ds_FRET = d_dcbs.select_bursts(select_bursts.size, add_naa=True, th1=gen_th, gamma = d.gamma, beta = d.beta)\n",
    "ds_FRET = ds_FRET.select_bursts(select_bursts.size, add_naa=False, th1=gen_th/2, gamma = d.gamma, beta = d.beta)\n",
    "ds_FRET = ds_FRET.select_bursts(select_bursts.naa, th1=gen_th/2, gamma = d.gamma, beta = d.beta)"
   ]
  },
  {
   "cell_type": "code",
   "execution_count": null,
   "metadata": {
    "scrolled": true
   },
   "outputs": [],
   "source": [
    "dplot(ds_FRET, hist_S, pdf=False)\n",
    "plt.axvline(np.mean(ds_FRET.S))\n",
    "np.mean(ds_FRET.S)"
   ]
  },
  {
   "cell_type": "markdown",
   "metadata": {},
   "source": [
    "In our case, the mean S value of the FRET population, after applying all corrections (except for Beta) was lower than 0.5 (it was 0.46)\n",
    "##### If after all corrections the mean S value of the FRET population is <0.5, beta should be >1\n",
    "##### If after all corrections the mean S value of the FRET population is >0.5, beta should be <1"
   ]
  },
  {
   "cell_type": "code",
   "execution_count": null,
   "metadata": {},
   "outputs": [],
   "source": [
    "d.leakage = Lk\n",
    "d.dir_ex = Dir\n",
    "d.gamma = gm\n",
    "# We employ all correction factors, except Beta, \n",
    "# and then guess a number for Beta, until the Corrected mean Stoichiometry value reaches a value of 0.5\n",
    "d.beta = 1.3\n",
    "# Burst selection including all types of populations\n",
    "ds_all = d.select_bursts(select_bursts.size, add_naa=True, th1=30)"
   ]
  },
  {
   "cell_type": "code",
   "execution_count": null,
   "metadata": {
    "scrolled": false
   },
   "outputs": [],
   "source": [
    "alex_jointplot(ds_all)"
   ]
  },
  {
   "cell_type": "code",
   "execution_count": null,
   "metadata": {},
   "outputs": [],
   "source": [
    "dplot(ds_all, hist2d_alex);"
   ]
  },
  {
   "cell_type": "markdown",
   "metadata": {},
   "source": [
    "### Testing how well the Lk & Dir corrections worked after applying all corrections"
   ]
  },
  {
   "cell_type": "code",
   "execution_count": null,
   "metadata": {},
   "outputs": [],
   "source": [
    "ds_DO = ds_all.select_bursts(select_bursts.S, S1=0.8)\n",
    "ds_AO = ds_all.select_bursts(select_bursts.S, S2=0.2)"
   ]
  },
  {
   "cell_type": "code",
   "execution_count": null,
   "metadata": {},
   "outputs": [],
   "source": [
    "dplot(ds_DO, hist2d_alex);"
   ]
  },
  {
   "cell_type": "code",
   "execution_count": null,
   "metadata": {},
   "outputs": [],
   "source": [
    "dplot(ds_DO, hist_fret, pdf=False)\n",
    "plt.axvline(np.mean(ds_DO.E))"
   ]
  },
  {
   "cell_type": "code",
   "execution_count": null,
   "metadata": {},
   "outputs": [],
   "source": [
    "np.mean(ds_DO.E)"
   ]
  },
  {
   "cell_type": "code",
   "execution_count": null,
   "metadata": {},
   "outputs": [],
   "source": [
    "dplot(ds_AO, hist2d_alex);"
   ]
  },
  {
   "cell_type": "code",
   "execution_count": null,
   "metadata": {},
   "outputs": [],
   "source": [
    "dplot(ds_AO, hist_S, pdf=False)\n",
    "plt.axvline(np.mean(ds_AO.S))"
   ]
  },
  {
   "cell_type": "code",
   "execution_count": null,
   "metadata": {
    "scrolled": true
   },
   "outputs": [],
   "source": [
    "np.mean(ds_AO.S)"
   ]
  },
  {
   "cell_type": "markdown",
   "metadata": {},
   "source": [
    "### Testing how well the Beta correction worked after applying all corrections"
   ]
  },
  {
   "cell_type": "code",
   "execution_count": null,
   "metadata": {},
   "outputs": [],
   "source": [
    "d_dcbs = bext.burst_search_and_gate(d, F = 6, m = 10)\n",
    "d_dcbs.fuse_bursts(ms=0)\n",
    "d_dcbs.leakage = d.leakage\n",
    "d_dcbs.dir_ex = d.dir_ex\n",
    "d_dcbs.gamma = d.gamma\n",
    "d_dcbs.beta = d.beta"
   ]
  },
  {
   "cell_type": "code",
   "execution_count": null,
   "metadata": {},
   "outputs": [],
   "source": [
    "# This time, burst selection has also to take into account burst sizes corrected by theBeta & Gamma factors\n",
    "gen_th = 50\n",
    "ds_FRET = d_dcbs.select_bursts(select_bursts.size, add_naa=True, th1=gen_th, gamma = d.gamma, beta = d.beta)\n",
    "ds_FRET = ds_FRET.select_bursts(select_bursts.size, add_naa=False, th1=gen_th/2, gamma = d.gamma, beta = d.beta)\n",
    "ds_FRET = ds_FRET.select_bursts(select_bursts.naa, th1=gen_th/2, gamma = d.gamma, beta = d.beta)"
   ]
  },
  {
   "cell_type": "code",
   "execution_count": null,
   "metadata": {
    "scrolled": false
   },
   "outputs": [],
   "source": [
    "alex_jointplot(ds_FRET)\n"
   ]
  },
  {
   "cell_type": "code",
   "execution_count": null,
   "metadata": {},
   "outputs": [],
   "source": [
    "dplot(ds_FRET, hist2d_alex);"
   ]
  },
  {
   "cell_type": "code",
   "execution_count": null,
   "metadata": {},
   "outputs": [],
   "source": [
    "dplot(ds_FRET, hist_S, pdf=False)\n",
    "plt.axvline(np.mean(ds_FRET.S))"
   ]
  },
  {
   "cell_type": "markdown",
   "metadata": {},
   "source": [
    "#### At this stage, reaching a FRET population with a mean S value of 0.5, means we found the value of beta and the results are now corrected"
   ]
  },
  {
   "cell_type": "code",
   "execution_count": null,
   "metadata": {
    "scrolled": true
   },
   "outputs": [],
   "source": [
    "np.mean(ds_FRET.S)"
   ]
  },
  {
   "cell_type": "markdown",
   "metadata": {},
   "source": [
    "#### Here is the fully corrected FRET histogram"
   ]
  },
  {
   "cell_type": "code",
   "execution_count": null,
   "metadata": {},
   "outputs": [],
   "source": [
    "dplot(ds_FRET, hist_fret, pdf=False)\n",
    "plt.axvline(np.mean(ds_FRET.E))"
   ]
  },
  {
   "cell_type": "markdown",
   "metadata": {},
   "source": [
    "### MFD calculations on the corrected ratiometric FRET values\n",
    "#### FRET population"
   ]
  },
  {
   "cell_type": "code",
   "execution_count": null,
   "metadata": {},
   "outputs": [],
   "source": [
    "# Choose a handler for the selected bursts you would like to focus on \n",
    "ds_tmp = ds_FRET\n",
    "\n",
    "bursts =ds_tmp.mburst[0]# This grants access to the bursts photons, including to their nanotimes\n",
    "# Define photon masks for the 3 main photon streams in PIE\n",
    "DexDem_mask = ds_tmp.get_ph_mask(ph_sel=Ph_sel(Dex='Dem'))   \n",
    "DexAem_mask = ds_tmp.get_ph_mask(ph_sel=Ph_sel(Dex='Aem'))   \n",
    "AexAem_mask = ds_tmp.get_ph_mask(ph_sel=Ph_sel(Aex='Aem'))   \n",
    "\n",
    "\n",
    "# Arrays that will hold the mean nanotime values\n",
    "nDexDm_corr=[]# for the stream of donor photons after donor excitation\n",
    "nDexAm_corr=[]# for the stream of acceptor photons after donor excitation\n",
    "nAexAm_corr=[]# for the stream of acceptor photons after acceptor excitation\n",
    "\n",
    "# Arrays that will hold the corresponding ratiometric values of E & S\n",
    "E_corr=[]\n",
    "S_corr=[]\n",
    "\n",
    "# Loop over all bursts\n",
    "for burst in bursts:\n",
    "    #Set temporary summing variables - used as numerator in the calculations of the burst algebraic average\n",
    "    tmpDA = 0;\n",
    "    tmpAA = 0;\n",
    "    tmpDD = 0;\n",
    "    \n",
    "    #Set temporary counter variables - used as denominator in the calculations of the burst algebraic average\n",
    "    cntDA = 0;\n",
    "    cntAA = 0;\n",
    "    cntDD = 0;\n",
    "    \n",
    "    # For each burst, loop over its photons\n",
    "    for i in range(burst.istart, burst.istop):\n",
    "        # the current photon's nanotime in TCSPC bins units\n",
    "        cur_nt = ds_tmp.nanotimes[0][i];\n",
    "        # the current photon's nanotime in nanoseconds\n",
    "        cur_nt = cur_nt * tcspc_bin * 1e9;\n",
    "        \n",
    "        # The case of a Dex.Dem. photon\n",
    "        if DexDem_mask[i] == 1 and DexAem_mask[i] == 0 and AexAem_mask[i] == 0 and cur_nt > nt_th_Dex:# only consider photon nanotimes larger than a given lower boundary, defining the beginning of the decay part of the TCSPC histogram\n",
    "            tmpDD += cur_nt;\n",
    "            cntDD += 1;\n",
    "        # The case of a Dex.Aem. photon\n",
    "        elif DexDem_mask[i] == 0 and DexAem_mask[i] == 1 and AexAem_mask[i] == 0 and cur_nt > nt_th_Dex:# only consider photon nanotimes larger than a given lower boundary, defining the beginning of the decay part of the TCSPC histogram\n",
    "            tmpDA += cur_nt;\n",
    "            cntDA += 1;\n",
    "        # The case of a Aex.Aem. photon\n",
    "        elif DexDem_mask[i] == 0 and DexAem_mask[i] == 0 and AexAem_mask[i] == 1 and cur_nt > nt_th_Aex:# only consider photon nanotimes larger than a given lower boundary, defining the beginning of the decay part of the TCSPC histogram\n",
    "            tmpAA += cur_nt;\n",
    "            cntAA += 1;\n",
    "        \n",
    "    # The calculation of the mean nanotime for each photon stream in PIE\n",
    "    # This conditional makes sure there were photons of the given photon stream in the burst. If there were no photons of that photon strem in the given burst, a value of -1 is stored instead.\n",
    "    # The -1 values should be ignored afterwards in further calculations\n",
    "    # Anyway, valid mean nanotimes are always larger or equl to 0\n",
    "    \n",
    "    # Dex.Dem. calculation\n",
    "    if cntDD > 0:\n",
    "        #The calcultion of the algebraic average nanotime \n",
    "        cur_mean_nt_DD = tmpDD/cntDD;\n",
    "        # The mean nanotime has a value relative to the beginning of the decay part of the TCSPC histogram. \n",
    "        # Subtraction of this value makes the value of the mean nanotime become relative to 0, as it hould be.\n",
    "        cur_mean_nt_DD = cur_mean_nt_DD - nt_th_Dex;\n",
    "    else:\n",
    "        cur_mean_nt_DD = -1;\n",
    "    \n",
    "    # Dex.Aem. calculation\n",
    "    if cntDA > 0:\n",
    "        cur_mean_nt_DA = tmpDA/cntDA;\n",
    "        cur_mean_nt_DA = cur_mean_nt_DA - nt_th_Dex;\n",
    "    else:\n",
    "        cur_mean_nt_DA = -1;\n",
    "    \n",
    "    # Aex.Aem. calculation\n",
    "    if cntAA > 0:\n",
    "        cur_mean_nt_AA = tmpAA/cntAA;\n",
    "        cur_mean_nt_AA = cur_mean_nt_AA - nt_th_Aex;\n",
    "    else:\n",
    "        cur_mean_nt_AA = -1;\n",
    "    \n",
    "    \n",
    "    # Storing the mean nanotime values of the 3 different photons streams in PIE, in their arrays, per each burst\n",
    "    nDexDm_corr.append(cur_mean_nt_DD)\n",
    "    nDexAm_corr.append(cur_mean_nt_DA)\n",
    "    nAexAm_corr.append(cur_mean_nt_AA)\n",
    "\n",
    "# Looping over all bursts to store the rtiometric E & S values\n",
    "for j in range(0, len(ds_tmp.E[0])):\n",
    "    E_corr.append(ds_tmp.E[0][j])\n",
    "    S_corr.append(ds_tmp.S[0][j])\n",
    "\n",
    "    "
   ]
  },
  {
   "cell_type": "code",
   "execution_count": null,
   "metadata": {},
   "outputs": [],
   "source": [
    "# Sanity check to test that the number of array elements for the mean nanotimes and E & S are identical\n",
    "assert(len(nDexDm_corr)==len(nDexAm_corr)==len(nAexAm_corr)==len(E_corr)==len(S_corr))"
   ]
  },
  {
   "cell_type": "code",
   "execution_count": null,
   "metadata": {},
   "outputs": [],
   "source": [
    "# Store the results of the mean nanotime calculations in local variables that relate to the given burst selection\n",
    "nDexDm_FRET_corr = nDexDm_corr;\n",
    "nDexAm_FRET_corr = nDexAm_corr;\n",
    "nAexAm_FRET_corr = nAexAm_corr;\n",
    "E_FRET_corr = E_corr;\n",
    "S_FRET_corr = S_corr;"
   ]
  },
  {
   "cell_type": "markdown",
   "metadata": {},
   "source": [
    "#### DO population"
   ]
  },
  {
   "cell_type": "code",
   "execution_count": null,
   "metadata": {},
   "outputs": [],
   "source": [
    "# Choose a handler for the selected bursts you would like to focus on \n",
    "ds_tmp = ds_DO\n",
    "\n",
    "bursts =ds_tmp.mburst[0]# This grants access to the bursts photons, including to their nanotimes\n",
    "# Define photon masks for the 3 main photon streams in PIE\n",
    "DexDem_mask = ds_tmp.get_ph_mask(ph_sel=Ph_sel(Dex='Dem'))   \n",
    "DexAem_mask = ds_tmp.get_ph_mask(ph_sel=Ph_sel(Dex='Aem'))   \n",
    "AexAem_mask = ds_tmp.get_ph_mask(ph_sel=Ph_sel(Aex='Aem'))   \n",
    "\n",
    "\n",
    "# Arrays that will hold the mean nanotime values\n",
    "nDexDm_corr=[]# for the stream of donor photons after donor excitation\n",
    "nDexAm_corr=[]# for the stream of acceptor photons after donor excitation\n",
    "nAexAm_corr=[]# for the stream of acceptor photons after acceptor excitation\n",
    "\n",
    "# Arrays that will hold the corresponding ratiometric values of E & S\n",
    "E_corr=[]\n",
    "S_corr=[]\n",
    "\n",
    "# Loop over all bursts\n",
    "for burst in bursts:\n",
    "    #Set temporary summing variables - used as numerator in the calculations of the burst algebraic average\n",
    "    tmpDA = 0;\n",
    "    tmpAA = 0;\n",
    "    tmpDD = 0;\n",
    "    \n",
    "    #Set temporary counter variables - used as denominator in the calculations of the burst algebraic average\n",
    "    cntDA = 0;\n",
    "    cntAA = 0;\n",
    "    cntDD = 0;\n",
    "    \n",
    "    # For each burst, loop over its photons\n",
    "    for i in range(burst.istart, burst.istop):\n",
    "        # the current photon's nanotime in TCSPC bins units\n",
    "        cur_nt = ds_tmp.nanotimes[0][i];\n",
    "        # the current photon's nanotime in nanoseconds\n",
    "        cur_nt = cur_nt * tcspc_bin * 1e9;\n",
    "        \n",
    "        # The case of a Dex.Dem. photon\n",
    "        if DexDem_mask[i] == 1 and DexAem_mask[i] == 0 and AexAem_mask[i] == 0 and cur_nt > nt_th_Dex:# only consider photon nanotimes larger than a given lower boundary, defining the beginning of the decay part of the TCSPC histogram\n",
    "            tmpDD += cur_nt;\n",
    "            cntDD += 1;\n",
    "        # The case of a Dex.Aem. photon\n",
    "        elif DexDem_mask[i] == 0 and DexAem_mask[i] == 1 and AexAem_mask[i] == 0 and cur_nt > nt_th_Dex:# only consider photon nanotimes larger than a given lower boundary, defining the beginning of the decay part of the TCSPC histogram\n",
    "            tmpDA += cur_nt;\n",
    "            cntDA += 1;\n",
    "        # The case of a Aex.Aem. photon\n",
    "        elif DexDem_mask[i] == 0 and DexAem_mask[i] == 0 and AexAem_mask[i] == 1 and cur_nt > nt_th_Aex:# only consider photon nanotimes larger than a given lower boundary, defining the beginning of the decay part of the TCSPC histogram\n",
    "            tmpAA += cur_nt;\n",
    "            cntAA += 1;\n",
    "        \n",
    "    # The calculation of the mean nanotime for each photon stream in PIE\n",
    "    # This conditional makes sure there were photons of the given photon stream in the burst. If there were no photons of that photon strem in the given burst, a value of -1 is stored instead.\n",
    "    # The -1 values should be ignored afterwards in further calculations\n",
    "    # Anyway, valid mean nanotimes are always larger or equl to 0\n",
    "    \n",
    "    # Dex.Dem. calculation\n",
    "    if cntDD > 0:\n",
    "        #The calcultion of the algebraic average nanotime \n",
    "        cur_mean_nt_DD = tmpDD/cntDD;\n",
    "        # The mean nanotime has a value relative to the beginning of the decay part of the TCSPC histogram. \n",
    "        # Subtraction of this value makes the value of the mean nanotime become relative to 0, as it hould be.\n",
    "        cur_mean_nt_DD = cur_mean_nt_DD - nt_th_Dex;\n",
    "    else:\n",
    "        cur_mean_nt_DD = -1;\n",
    "    \n",
    "    # Dex.Aem. calculation\n",
    "    if cntDA > 0:\n",
    "        cur_mean_nt_DA = tmpDA/cntDA;\n",
    "        cur_mean_nt_DA = cur_mean_nt_DA - nt_th_Dex;\n",
    "    else:\n",
    "        cur_mean_nt_DA = -1;\n",
    "    \n",
    "    # Aex.Aem. calculation\n",
    "    if cntAA > 0:\n",
    "        cur_mean_nt_AA = tmpAA/cntAA;\n",
    "        cur_mean_nt_AA = cur_mean_nt_AA - nt_th_Aex;\n",
    "    else:\n",
    "        cur_mean_nt_AA = -1;\n",
    "    \n",
    "    \n",
    "    # Storing the mean nanotime values of the 3 different photons streams in PIE, in their arrays, per each burst\n",
    "    nDexDm_corr.append(cur_mean_nt_DD)\n",
    "    nDexAm_corr.append(cur_mean_nt_DA)\n",
    "    nAexAm_corr.append(cur_mean_nt_AA)\n",
    "\n",
    "# Looping over all bursts to store the rtiometric E & S values\n",
    "for j in range(0, len(ds_tmp.E[0])):\n",
    "    E_corr.append(ds_tmp.E[0][j])\n",
    "    S_corr.append(ds_tmp.S[0][j])\n",
    "\n",
    "    "
   ]
  },
  {
   "cell_type": "code",
   "execution_count": null,
   "metadata": {},
   "outputs": [],
   "source": [
    "# Sanity check to test that the number of array elements for the mean nanotimes and E & S are identical\n",
    "assert(len(nDexDm_corr)==len(nDexAm_corr)==len(nAexAm_corr)==len(E_corr)==len(S_corr))"
   ]
  },
  {
   "cell_type": "code",
   "execution_count": null,
   "metadata": {},
   "outputs": [],
   "source": [
    "# Store the results of the mean nanotime calculations in local variables that relate to the given burst selection\n",
    "nDexDm_DO_corr = nDexDm_corr;\n",
    "nDexAm_DO_corr = nDexAm_corr;\n",
    "nAexAm_DO_corr = nAexAm_corr;\n",
    "E_DO_corr = E_corr;\n",
    "S_DO_corr = S_corr;"
   ]
  },
  {
   "cell_type": "markdown",
   "metadata": {},
   "source": [
    "#### Some E vs. tau 2D plots, for several nanotimes of different streams"
   ]
  },
  {
   "cell_type": "code",
   "execution_count": null,
   "metadata": {},
   "outputs": [],
   "source": [
    "plt.hist2d(nAexAm_FRET_corr, E_FRET_corr, bins=(55,55), range=[[-0.2,10.4],[-0.2,1.2]], cmap=plt.cm.jet)\n",
    "plt.colorbar()\n",
    "plt.xlabel('tauA (ns)')\n",
    "plt.ylabel('E')\n",
    "plt.title('Ratiometric FRET vs. acceptor mean nanotime (Aex.)\\nFRET population')"
   ]
  },
  {
   "cell_type": "code",
   "execution_count": null,
   "metadata": {},
   "outputs": [],
   "source": [
    "plt.hist2d(nDexAm_FRET_corr, E_FRET_corr, bins=(55,55), range=[[-0.2,10.4],[-0.2,1.2]], cmap=plt.cm.jet)\n",
    "plt.colorbar()\n",
    "plt.xlabel('tauA (ns)')\n",
    "plt.ylabel('E')\n",
    "plt.title('Ratiometric FRET vs. acceptor mean nanotime (Dex.)\\nFRET population')"
   ]
  },
  {
   "cell_type": "code",
   "execution_count": null,
   "metadata": {},
   "outputs": [],
   "source": [
    "plt.hist2d(nDexDm_FRET_corr, E_FRET_corr, bins=(55,55), range=[[-0.2,5.2],[-0.2,1.2]], cmap=plt.cm.jet)\n",
    "plt.colorbar()\n",
    "plt.xlabel('tauD (ns)')\n",
    "plt.ylabel('E')\n",
    "plt.title('Ratiometric FRET vs. Donor mean nanotime\\nFRET population')"
   ]
  },
  {
   "cell_type": "code",
   "execution_count": null,
   "metadata": {},
   "outputs": [],
   "source": [
    "plt.hist2d(nDexDm_DO, E_DO, bins=(55,55), range=[[-0.2,5.2],[-0.2,1.2]], cmap=plt.cm.jet)\n",
    "plt.colorbar()\n",
    "plt.xlabel('tauD (ns)')\n",
    "plt.ylabel('E')\n",
    "plt.title('Ratiometric FRET vs. Donor mean nanotime\\nDO population')"
   ]
  },
  {
   "cell_type": "code",
   "execution_count": null,
   "metadata": {},
   "outputs": [],
   "source": [
    "mn_nt_DO = np.mean(nDexDm_DO)\n",
    "mn_nt_DO"
   ]
  },
  {
   "cell_type": "markdown",
   "metadata": {},
   "source": [
    "#### Production of FRET lines for MFD plots\n",
    "Code adapted from Thomas Peulen - https://github.com/Fluorescence-Tools/ChiSurf/blob/master/docs/notebooks/fret_lines.ipynb"
   ]
  },
  {
   "cell_type": "code",
   "execution_count": null,
   "metadata": {},
   "outputs": [],
   "source": [
    "# Definition of normal distribution and Gaussian chain distribution\n",
    "pdf_norm = lambda x, mean, sigma: np.exp(-(x-mean)**2/(2*sigma**2))/np.sqrt(2*np.pi*sigma**2)\n",
    "pdf_mix = lambda x, m1, s1, m2, s2, x1: 0.5 * (x1 * pdf_norm(x, m1, s1) + (1-x1) * pdf_norm(x, m2, s1))\n",
    "\n",
    "rda2fret = lambda rda, r0: 1./(1+(rda/r0)**6.)\n",
    "rda2tau = lambda rda, tauD0, r0: (1-rda2fret(rda, r0))*tauD0\n",
    "tau2taux = lambda x, tau: np.dot(x,tau) / np.sum(x)\n",
    "fret2avfret = lambda x, fret: np.dot(x, fret) / np.sum(x)\n",
    "tau2tauf = lambda x, tau: np.dot(x,tau**2) / tau2taux(x,tau) / np.sum(x)\n",
    "\n",
    "tauD0 = mn_nt_DO\n",
    "r0 = 49\n",
    "sigma = 10.0\n",
    "rda = np.linspace(0, 250, 250)\n",
    "fret_efficiency = rda2fret(rda, r0)\n",
    "tau = rda2tau(rda, tauD0, r0)\n",
    "\n",
    "# Calculation of a static FRET line\n",
    "av_fret = list()\n",
    "tau_f = list()\n",
    "scan_range = np.linspace(5, 250, 500)\n",
    "for m_rda in scan_range:\n",
    "  x = pdf_norm(rda, m_rda, sigma)\n",
    "  tau_f.append(tau2tauf(x, tau))\n",
    "  av_fret.append(fret2avfret(x, fret_efficiency))\n",
    "static_fret = av_fret\n",
    "static_tau = tau_f\n",
    "\n",
    "# Calculation of a dynamic FRET line\n",
    "m1 = 40\n",
    "m2 = 60\n",
    "s1 = s2 = sigma\n",
    "av_fret = list()\n",
    "tau_f = list()\n",
    "scan_range = np.linspace(0, 1, 100)\n",
    "for x1 in scan_range:\n",
    "  x = pdf_mix(rda, m1, s1, m2, s2, x1)\n",
    "  tau_f.append(tau2tauf(x, tau))\n",
    "  av_fret.append(fret2avfret(x, fret_efficiency))\n",
    "dynamic_fret = av_fret\n",
    "dynamic_tau = tau_f\n",
    "\n",
    "plt.plot(dynamic_tau, dynamic_fret)\n",
    "plt.plot(static_tau, static_fret)\n",
    "plt.show()"
   ]
  },
  {
   "cell_type": "markdown",
   "metadata": {},
   "source": [
    "### Donor nanotime MFD plots\n",
    "#### FRET population"
   ]
  },
  {
   "cell_type": "code",
   "execution_count": null,
   "metadata": {},
   "outputs": [],
   "source": [
    "bns = 50"
   ]
  },
  {
   "cell_type": "code",
   "execution_count": null,
   "metadata": {},
   "outputs": [],
   "source": [
    "plt.hist2d(nDexDm_FRET_corr, E_FRET_corr, bins=(bns,bns), range=[[-0.2,5.2],[-0.2,1.2]], cmap=plt.cm.gnuplot)\n",
    "plt.plot(static_tau, static_fret, 'w', linewidth=3)\n",
    "plt.colorbar()\n",
    "plt.xlim(-0.2, 5.2)\n",
    "plt.ylim(-0.2, 1.2)\n",
    "plt.xlabel('tauD (ns)')\n",
    "plt.ylabel('E')\n",
    "plt.title('Ratiometric FRET vs. Donor mean nanotime\\nFRET population')"
   ]
  },
  {
   "cell_type": "markdown",
   "metadata": {},
   "source": [
    "#### DO population"
   ]
  },
  {
   "cell_type": "code",
   "execution_count": null,
   "metadata": {},
   "outputs": [],
   "source": [
    "plt.hist2d(nDexDm_DO, E_DO, bins=(bns,bns), range=[[-0.2,5.2],[-0.2,1.2]], cmap=plt.cm.gnuplot)\n",
    "plt.plot(static_tau, static_fret, 'w', linewidth=3)\n",
    "plt.colorbar()\n",
    "plt.xlim(-0.2, 5.2)\n",
    "plt.ylim(-0.2, 1.2)\n",
    "plt.xlabel('tauD (ns)')\n",
    "plt.ylabel('E')\n",
    "plt.title('Ratiometric FRET vs. Donor mean nanotime\\nDO population')"
   ]
  },
  {
   "cell_type": "markdown",
   "metadata": {},
   "source": [
    "### Some plots of burst statistics\n",
    "#### Burst size histograms"
   ]
  },
  {
   "cell_type": "code",
   "execution_count": null,
   "metadata": {},
   "outputs": [],
   "source": [
    "bins=(20, 100, 5)\n",
    "dplot(ds_DO, hist_size, bins=bins);\n",
    "dplot(ds_AO, hist_size, bins=bins, ax=plt.gca(), plot_style={'color': 'C1', });\n",
    "dplot(ds_FRET, hist_size, bins=bins, ax=plt.gca(), plot_style={'color': 'C2', });"
   ]
  },
  {
   "cell_type": "markdown",
   "metadata": {},
   "source": [
    "#### Burst width histograms"
   ]
  },
  {
   "cell_type": "code",
   "execution_count": null,
   "metadata": {},
   "outputs": [],
   "source": [
    "bins=(0, 10, 0.5)\n",
    "dplot(ds_DO, hist_width, bins=bins, ax=plt.gca(), plot_style={'color': 'C1', });\n",
    "dplot(ds_AO, hist_width, bins=bins, ax=plt.gca(), plot_style={'color': 'C2', });\n",
    "dplot(ds_FRET, hist_width, bins=bins, ax=plt.gca(), plot_style={'color': 'C3', });\n"
   ]
  },
  {
   "cell_type": "markdown",
   "metadata": {},
   "source": [
    "#### Burst peak photon rate histograms"
   ]
  },
  {
   "cell_type": "code",
   "execution_count": null,
   "metadata": {},
   "outputs": [],
   "source": [
    "bins=(0, 800, 50)\n",
    "dplot(ds_DO, hist_burst_phrate, bins=bins, ax=plt.gca(), plot_style={'color': 'C1', });\n",
    "dplot(ds_AO, hist_burst_phrate, bins=bins, ax=plt.gca(), plot_style={'color': 'C2', });\n",
    "dplot(ds_FRET, hist_burst_phrate, bins=bins, ax=plt.gca(), plot_style={'color': 'C3', });\n"
   ]
  },
  {
   "cell_type": "markdown",
   "metadata": {},
   "source": [
    "# BVA\n",
    "### BVA analysis is run on photons of bursts following ACBS, with no corrections applied\n",
    "\n",
    "#### We run BVA analysis to make sure the FRET population we have are static. If they are time averages of faster occurring dynamics, their mean FRET efficiency is irrelevant for the per-population Gamma factor calculation"
   ]
  },
  {
   "cell_type": "code",
   "execution_count": null,
   "metadata": {},
   "outputs": [],
   "source": [
    "d.burst_search(m=10, F=6, ph_sel=Ph_sel(Dex='DAem'), computefret=False)\n",
    "d.calc_fret(count_ph=True, corrections=False)\n",
    "d.fuse_bursts(ms=0)\n",
    "ds1 = Sel(d, select_bursts.naa, th1=25)\n",
    "ds1 = Sel(ds1, select_bursts.size, th1=25)\n",
    "\n",
    "\n",
    "bursts =ds1.mburst[0]\n",
    "ph_d = ds1.get_ph_times(ph_sel=Ph_sel(Dex='DAem'))\n",
    "AemDex_mask = ds1.get_ph_mask(ph_sel=Ph_sel(Dex='Aem')) \n",
    "Dex_mask = ds1.get_ph_mask(ph_sel=Ph_sel(Dex='DAem'))   \n",
    "AemDex_mask_d = AemDex_mask[Dex_mask]\n",
    "\n",
    "bursts_d = bursts.recompute_index_reduce(ph_d)\n",
    "\n",
    "n=5        # Determine the number of photons inside each sub-burst\n",
    "\n",
    "Std_small=[]\n",
    "Avg_small=[]\n",
    "for burst in bursts_d:\n",
    "    E_small=[]\n",
    "    startlist = range(burst.istart, burst.istop + 2 - n, n)\n",
    "    stoplist = [i + n for i in startlist]\n",
    "    for start, stop in zip(startlist, stoplist): \n",
    "        A_D = AemDex_mask_d[start:stop].sum()\n",
    "        assert stop-start == n\n",
    "        E = A_D / n\n",
    "        E_small.append(E)\n",
    "    Std_small.append(np.std(E_small))\n",
    "    Avg_small.append(np.average(E_small))\n",
    "\n",
    "\n",
    "R=20\n",
    "B_Thr= 60\n",
    "E_small_num=[]\n",
    "E_list_num=[]\n",
    "bn=np.arange(0,1+(2/R),1/R)\n",
    "Std_small1=[]    \n",
    "for b1, b2 in zip(bn[:-1], bn[1:]):\n",
    "    E_small1=[]\n",
    "    E_list=[]\n",
    "    for burst in bursts_d:\n",
    "        A_D = AemDex_mask_d[burst.istart:burst.istop+1].sum()\n",
    "        E_calc = A_D/burst.counts\n",
    "        if E_calc >= b1 and E_calc < b2:\n",
    "            E_list.append(E_calc)           \n",
    "            startlist = range(burst.istart, burst.istop + 2 - n, n)\n",
    "            stoplist = [i + n for i in startlist]\n",
    "            for start, stop in zip(startlist, stoplist): \n",
    "                A_D = AemDex_mask_d[start:stop].sum()\n",
    "                assert stop-start == n\n",
    "                E = A_D / n\n",
    "                E_small1.append(E)\n",
    "\n",
    "# Stds of the bins would be rejected if the numbers of bursts in the bins are smaller than B_Thr \n",
    "    if np.array(E_list).shape[0] >= B_Thr:            #\n",
    "        Std_small1.append(np.std(E_small1))              \n",
    "    else:\n",
    "        Std_small1.append(-1)"
   ]
  },
  {
   "cell_type": "code",
   "execution_count": null,
   "metadata": {},
   "outputs": [],
   "source": [
    "# sns.set_style(style='darkgrid')\n",
    "x_bin = bn[:-1]+1/(2*R)\n",
    "plt.figure(figsize=(6,6))\n",
    "x_T=np.arange(0,1.01,0.01)\n",
    "y_T=np.sqrt((x_T*(1-x_T))/n)\n",
    "plt.plot(x_T,y_T, lw=3, color='k', ls='--')\n",
    "im = sns.kdeplot(np.array(Avg_small), np.array(Std_small), shade=True, cmap='Spectral_r', n_levels=20, shade_lowest=False, gridsize=100)\n",
    "plt.plot (x_bin ,np.array(Std_small1), marker=\"^\", color='white', mew=1, mec='k', lw=0, ms=10, alpha=1)\n",
    "plt.xlim(-0.01,1.01)\n",
    "plt.ylim(0,0.4)\n",
    "plt.xlabel('$E^*$', fontsize=18)\n",
    "plt.ylabel(r'$\\sigma_{E^*}$', fontsize=18)\n",
    "\n",
    "#plt.savefig(full_fname , dpi=200, bbox_inches='tight')"
   ]
  },
  {
   "cell_type": "code",
   "execution_count": null,
   "metadata": {},
   "outputs": [],
   "source": [
    "d.burst_search(m=10, F=6, ph_sel=Ph_sel(Dex='DAem'))\n",
    "d.fuse_bursts(ms=0)\n",
    "ds1 = Sel(d, select_bursts.naa, th1=25)\n",
    "ds1 = Sel(ds1, select_bursts.size, th1=25)"
   ]
  },
  {
   "cell_type": "code",
   "execution_count": null,
   "metadata": {},
   "outputs": [],
   "source": [
    "sns.palplot(sns.color_palette('Spectral_r', 30))\n",
    "BLUE = sns.color_palette('Spectral_r', 30)[0]"
   ]
  },
  {
   "cell_type": "code",
   "execution_count": null,
   "metadata": {
    "scrolled": false
   },
   "outputs": [],
   "source": [
    "hist_bar_style={'facecolor': BLUE, 'alpha': 1, 'edgecolor': 'white', 'linewidth':0.2}\n",
    "\n",
    "pnlsRows = 2\n",
    "pnlsCols = 1\n",
    "sns.set_style(style='whitegrid')\n",
    "fig, ax = plt.subplots(pnlsRows, pnlsCols, sharex=True, figsize=(4*pnlsCols, 4*pnlsRows))\n",
    "plt.subplots_adjust(hspace=0, wspace=0.2)\n",
    "\n",
    "dplot(ds1, hist_fret, pdf=False, weights = None, ax=ax[0], binwidth=0.025, hist_bar_style=hist_bar_style)\n",
    "\n",
    "\n",
    "x_T=np.arange(0,1.01,0.01)\n",
    "y_T=np.sqrt((x_T*(1-x_T))/n)\n",
    "ax[1].plot(x_T,y_T, lw=3, color='k', ls='--')\n",
    "\n",
    "im = sns.kdeplot(np.array(Avg_small), np.array(Std_small), shade=True, cmap='Spectral_r', n_levels=20, shade_lowest=False, gridsize=100, ax=ax[1])\n",
    "ax[1].plot (x_bin ,np.array(Std_small1), marker=\"^\", color='white', mew=1, mec='k', lw=0, ms=10, alpha=1)\n",
    "\n",
    "\n",
    "#ax[0,0].set_title('(-15)TA-(+2)NTD', fontsize=18, fontname='arial', fontweight='bold')\n",
    "#ax[0,1].set_title('(-3)TA-(-6)NTD', fontsize=18, fontname='arial', fontweight='bold')\n",
    "#ax[0,2].set_title('(-8)TA-(-6)NTD', fontsize=18, fontname='arial', fontweight='bold')\n",
    "\n",
    "\n",
    "#ax[0].set_ylim(0,590)\n",
    "ax[1].set_ylim(0,0.4)\n",
    "\n",
    "#ax[0].set_yticks(np.arange(0, 590, 200))\n",
    "ax[1].set_yticks(np.arange(0, 0.4, 0.1))\n",
    "\n",
    "for a in ax.ravel():\n",
    "    a.set_xlabel('')\n",
    "    a.set_ylabel('')\n",
    "    a.set_title('')\n",
    "    a.set_xlim(-0.1,1.1)\n",
    "    a.tick_params(axis='both', which='major', labelsize=16)\n",
    "    a.tick_params(axis='both', which='minor', labelsize=14)\n",
    "\n",
    "ax[0].set_ylabel('# Bursts', fontsize=18, fontname='arial', fontweight='bold')\n",
    "ax[1].set_ylabel('σ(PR)', fontsize=18, fontname='arial', fontweight='bold')\n",
    "ax[1].set_xlabel('PR', fontsize=18, fontname='arial', fontweight='bold')\n",
    "\n"
   ]
  },
  {
   "cell_type": "markdown",
   "metadata": {},
   "source": [
    "##### The FRET population is static"
   ]
  }
 ],
 "metadata": {
  "kernelspec": {
   "display_name": "MC-DEPI (Python 3.6)",
   "language": "python",
   "name": "depi_env"
  },
  "language_info": {
   "codemirror_mode": {
    "name": "ipython",
    "version": 3
   },
   "file_extension": ".py",
   "mimetype": "text/x-python",
   "name": "python",
   "nbconvert_exporter": "python",
   "pygments_lexer": "ipython3",
   "version": "3.6.6"
  }
 },
 "nbformat": 4,
 "nbformat_minor": 1
}
